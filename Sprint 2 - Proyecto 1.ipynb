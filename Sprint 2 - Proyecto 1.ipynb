{
 "cells": [
  {
   "cell_type": "markdown",
   "metadata": {},
   "source": [
    "# Análisis del riesgo de incumplimiento de los prestatarios\n",
    "\n",
    "Tu proyecto consiste en preparar un informe para la división de préstamos de un banco. Deberás averiguar si el estado civil y el número de hijos de un cliente tienen un impacto en el incumplimiento de pago de un préstamo. El banco ya tiene algunos datos sobre la solvencia crediticia de los clientes.\n",
    "\n",
    "Tu informe se tendrá en cuenta al crear una **puntuación de crédito** para un cliente potencial. La **puntuación de crédito** se utiliza para evaluar la capacidad de un prestatario potencial para pagar su préstamo.\n",
    "\n",
    "En el presente documento se analizará cómo las variables ya mencionadas inciden en el incumplimiento de pago del préstamo."
   ]
  },
  {
   "cell_type": "markdown",
   "metadata": {},
   "source": [
    "# Contents <a id='back'></a>\n",
    "\n",
    "* [Etapa 1. Importacion de data](#intro)\n",
    "* [Etapa 2. Exploración de data](#data_exp)\n",
    "* [Etapa 3. Transformación de datos](#data_trans)\n",
    "* [Etapa 4. Clasificación de datos](#data_class)\n",
    "* [Etapa 5. Comprobación de hipótesis](#data_comp)\n",
    "* [Conclusiones](#conclu_general)"
   ]
  },
  {
   "cell_type": "markdown",
   "metadata": {},
   "source": [
    "## Abre el archivo de datos y mira la información general. <a id='intro'></a>"
   ]
  },
  {
   "cell_type": "code",
   "execution_count": 1,
   "metadata": {},
   "outputs": [],
   "source": [
    "# Cargar todas las librerías\n",
    "import pandas as pd"
   ]
  },
  {
   "cell_type": "code",
   "execution_count": 2,
   "metadata": {},
   "outputs": [],
   "source": [
    "# Carga los datos\n",
    "file = pd.read_csv(\"/datasets/credit_scoring_eng.csv\")"
   ]
  },
  {
   "cell_type": "markdown",
   "metadata": {},
   "source": [
    "## Ejercicio 1. Exploración de datos <a id='data_exp'></a>\n",
    "\n",
    "**Descripción de los datos**\n",
    "- `children` - el número de hijos en la familia\n",
    "- `days_employed` - experiencia laboral en días\n",
    "- `dob_years` - la edad del cliente en años\n",
    "- `education` - la educación del cliente\n",
    "- `education_id` - identificador de educación\n",
    "- `family_status` - estado civil\n",
    "- `family_status_id` - identificador de estado civil\n",
    "- `gender` - género del cliente\n",
    "- `income_type` - tipo de empleo\n",
    "- `debt` - ¿había alguna deuda en el pago de un préstamo?\n",
    "- `total_income` - ingreso mensual\n",
    "- `purpose` - el propósito de obtener un préstamo"
   ]
  },
  {
   "cell_type": "code",
   "execution_count": 3,
   "metadata": {},
   "outputs": [
    {
     "name": "stdout",
     "output_type": "stream",
     "text": [
      "(21525, 12)\n"
     ]
    }
   ],
   "source": [
    "# Vamos a ver cuántas filas y columnas tiene nuestro conjunto de datos\n",
    "shape = file.shape\n",
    "print(shape)"
   ]
  },
  {
   "cell_type": "code",
   "execution_count": 4,
   "metadata": {},
   "outputs": [
    {
     "data": {
      "text/html": [
       "<div>\n",
       "<style scoped>\n",
       "    .dataframe tbody tr th:only-of-type {\n",
       "        vertical-align: middle;\n",
       "    }\n",
       "\n",
       "    .dataframe tbody tr th {\n",
       "        vertical-align: top;\n",
       "    }\n",
       "\n",
       "    .dataframe thead th {\n",
       "        text-align: right;\n",
       "    }\n",
       "</style>\n",
       "<table border=\"1\" class=\"dataframe\">\n",
       "  <thead>\n",
       "    <tr style=\"text-align: right;\">\n",
       "      <th></th>\n",
       "      <th>children</th>\n",
       "      <th>days_employed</th>\n",
       "      <th>dob_years</th>\n",
       "      <th>education</th>\n",
       "      <th>education_id</th>\n",
       "      <th>family_status</th>\n",
       "      <th>family_status_id</th>\n",
       "      <th>gender</th>\n",
       "      <th>income_type</th>\n",
       "      <th>debt</th>\n",
       "      <th>total_income</th>\n",
       "      <th>purpose</th>\n",
       "    </tr>\n",
       "  </thead>\n",
       "  <tbody>\n",
       "    <tr>\n",
       "      <th>0</th>\n",
       "      <td>1</td>\n",
       "      <td>-8437.673028</td>\n",
       "      <td>42</td>\n",
       "      <td>bachelor's degree</td>\n",
       "      <td>0</td>\n",
       "      <td>married</td>\n",
       "      <td>0</td>\n",
       "      <td>F</td>\n",
       "      <td>employee</td>\n",
       "      <td>0</td>\n",
       "      <td>40620.102</td>\n",
       "      <td>purchase of the house</td>\n",
       "    </tr>\n",
       "    <tr>\n",
       "      <th>1</th>\n",
       "      <td>1</td>\n",
       "      <td>-4024.803754</td>\n",
       "      <td>36</td>\n",
       "      <td>secondary education</td>\n",
       "      <td>1</td>\n",
       "      <td>married</td>\n",
       "      <td>0</td>\n",
       "      <td>F</td>\n",
       "      <td>employee</td>\n",
       "      <td>0</td>\n",
       "      <td>17932.802</td>\n",
       "      <td>car purchase</td>\n",
       "    </tr>\n",
       "    <tr>\n",
       "      <th>2</th>\n",
       "      <td>0</td>\n",
       "      <td>-5623.422610</td>\n",
       "      <td>33</td>\n",
       "      <td>Secondary Education</td>\n",
       "      <td>1</td>\n",
       "      <td>married</td>\n",
       "      <td>0</td>\n",
       "      <td>M</td>\n",
       "      <td>employee</td>\n",
       "      <td>0</td>\n",
       "      <td>23341.752</td>\n",
       "      <td>purchase of the house</td>\n",
       "    </tr>\n",
       "    <tr>\n",
       "      <th>3</th>\n",
       "      <td>3</td>\n",
       "      <td>-4124.747207</td>\n",
       "      <td>32</td>\n",
       "      <td>secondary education</td>\n",
       "      <td>1</td>\n",
       "      <td>married</td>\n",
       "      <td>0</td>\n",
       "      <td>M</td>\n",
       "      <td>employee</td>\n",
       "      <td>0</td>\n",
       "      <td>42820.568</td>\n",
       "      <td>supplementary education</td>\n",
       "    </tr>\n",
       "    <tr>\n",
       "      <th>4</th>\n",
       "      <td>0</td>\n",
       "      <td>340266.072047</td>\n",
       "      <td>53</td>\n",
       "      <td>secondary education</td>\n",
       "      <td>1</td>\n",
       "      <td>civil partnership</td>\n",
       "      <td>1</td>\n",
       "      <td>F</td>\n",
       "      <td>retiree</td>\n",
       "      <td>0</td>\n",
       "      <td>25378.572</td>\n",
       "      <td>to have a wedding</td>\n",
       "    </tr>\n",
       "    <tr>\n",
       "      <th>5</th>\n",
       "      <td>0</td>\n",
       "      <td>-926.185831</td>\n",
       "      <td>27</td>\n",
       "      <td>bachelor's degree</td>\n",
       "      <td>0</td>\n",
       "      <td>civil partnership</td>\n",
       "      <td>1</td>\n",
       "      <td>M</td>\n",
       "      <td>business</td>\n",
       "      <td>0</td>\n",
       "      <td>40922.170</td>\n",
       "      <td>purchase of the house</td>\n",
       "    </tr>\n",
       "    <tr>\n",
       "      <th>6</th>\n",
       "      <td>0</td>\n",
       "      <td>-2879.202052</td>\n",
       "      <td>43</td>\n",
       "      <td>bachelor's degree</td>\n",
       "      <td>0</td>\n",
       "      <td>married</td>\n",
       "      <td>0</td>\n",
       "      <td>F</td>\n",
       "      <td>business</td>\n",
       "      <td>0</td>\n",
       "      <td>38484.156</td>\n",
       "      <td>housing transactions</td>\n",
       "    </tr>\n",
       "    <tr>\n",
       "      <th>7</th>\n",
       "      <td>0</td>\n",
       "      <td>-152.779569</td>\n",
       "      <td>50</td>\n",
       "      <td>SECONDARY EDUCATION</td>\n",
       "      <td>1</td>\n",
       "      <td>married</td>\n",
       "      <td>0</td>\n",
       "      <td>M</td>\n",
       "      <td>employee</td>\n",
       "      <td>0</td>\n",
       "      <td>21731.829</td>\n",
       "      <td>education</td>\n",
       "    </tr>\n",
       "    <tr>\n",
       "      <th>8</th>\n",
       "      <td>2</td>\n",
       "      <td>-6929.865299</td>\n",
       "      <td>35</td>\n",
       "      <td>BACHELOR'S DEGREE</td>\n",
       "      <td>0</td>\n",
       "      <td>civil partnership</td>\n",
       "      <td>1</td>\n",
       "      <td>F</td>\n",
       "      <td>employee</td>\n",
       "      <td>0</td>\n",
       "      <td>15337.093</td>\n",
       "      <td>having a wedding</td>\n",
       "    </tr>\n",
       "    <tr>\n",
       "      <th>9</th>\n",
       "      <td>0</td>\n",
       "      <td>-2188.756445</td>\n",
       "      <td>41</td>\n",
       "      <td>secondary education</td>\n",
       "      <td>1</td>\n",
       "      <td>married</td>\n",
       "      <td>0</td>\n",
       "      <td>M</td>\n",
       "      <td>employee</td>\n",
       "      <td>0</td>\n",
       "      <td>23108.150</td>\n",
       "      <td>purchase of the house for my family</td>\n",
       "    </tr>\n",
       "  </tbody>\n",
       "</table>\n",
       "</div>"
      ],
      "text/plain": [
       "   children  days_employed  dob_years            education  education_id  \\\n",
       "0         1   -8437.673028         42    bachelor's degree             0   \n",
       "1         1   -4024.803754         36  secondary education             1   \n",
       "2         0   -5623.422610         33  Secondary Education             1   \n",
       "3         3   -4124.747207         32  secondary education             1   \n",
       "4         0  340266.072047         53  secondary education             1   \n",
       "5         0    -926.185831         27    bachelor's degree             0   \n",
       "6         0   -2879.202052         43    bachelor's degree             0   \n",
       "7         0    -152.779569         50  SECONDARY EDUCATION             1   \n",
       "8         2   -6929.865299         35    BACHELOR'S DEGREE             0   \n",
       "9         0   -2188.756445         41  secondary education             1   \n",
       "\n",
       "       family_status  family_status_id gender income_type  debt  total_income  \\\n",
       "0            married                 0      F    employee     0     40620.102   \n",
       "1            married                 0      F    employee     0     17932.802   \n",
       "2            married                 0      M    employee     0     23341.752   \n",
       "3            married                 0      M    employee     0     42820.568   \n",
       "4  civil partnership                 1      F     retiree     0     25378.572   \n",
       "5  civil partnership                 1      M    business     0     40922.170   \n",
       "6            married                 0      F    business     0     38484.156   \n",
       "7            married                 0      M    employee     0     21731.829   \n",
       "8  civil partnership                 1      F    employee     0     15337.093   \n",
       "9            married                 0      M    employee     0     23108.150   \n",
       "\n",
       "                               purpose  \n",
       "0                purchase of the house  \n",
       "1                         car purchase  \n",
       "2                purchase of the house  \n",
       "3              supplementary education  \n",
       "4                    to have a wedding  \n",
       "5                purchase of the house  \n",
       "6                 housing transactions  \n",
       "7                            education  \n",
       "8                     having a wedding  \n",
       "9  purchase of the house for my family  "
      ]
     },
     "execution_count": 4,
     "metadata": {},
     "output_type": "execute_result"
    }
   ],
   "source": [
    "# vamos a mostrar las primeras filas N=10\n",
    "\n",
    "file.head(10)"
   ]
  },
  {
   "cell_type": "markdown",
   "metadata": {},
   "source": [
    "Identificamos que la tabla tiene 12 columnas y 21525 filas. Identificamos a primera vista las siguientes situaciones:\n",
    "- Vemos a primera vista que la columna \"days_employed\" tiene valores negativos, lo cual es problemático ya que esta variable indica días de trabajo. Además de tener valores decimales.\n",
    "- Vemos que la información en \"education\" no está uniformizada pues la información está en mayúsculas"
   ]
  },
  {
   "cell_type": "code",
   "execution_count": 5,
   "metadata": {
    "scrolled": true
   },
   "outputs": [
    {
     "name": "stdout",
     "output_type": "stream",
     "text": [
      "<class 'pandas.core.frame.DataFrame'>\n",
      "RangeIndex: 21525 entries, 0 to 21524\n",
      "Data columns (total 12 columns):\n",
      " #   Column            Non-Null Count  Dtype  \n",
      "---  ------            --------------  -----  \n",
      " 0   children          21525 non-null  int64  \n",
      " 1   days_employed     19351 non-null  float64\n",
      " 2   dob_years         21525 non-null  int64  \n",
      " 3   education         21525 non-null  object \n",
      " 4   education_id      21525 non-null  int64  \n",
      " 5   family_status     21525 non-null  object \n",
      " 6   family_status_id  21525 non-null  int64  \n",
      " 7   gender            21525 non-null  object \n",
      " 8   income_type       21525 non-null  object \n",
      " 9   debt              21525 non-null  int64  \n",
      " 10  total_income      19351 non-null  float64\n",
      " 11  purpose           21525 non-null  object \n",
      "dtypes: float64(2), int64(5), object(5)\n",
      "memory usage: 2.0+ MB\n"
     ]
    }
   ],
   "source": [
    "# Obtener información sobre los datos\n",
    "file.info()"
   ]
  },
  {
   "cell_type": "markdown",
   "metadata": {},
   "source": [
    "Se ven valores ausentes en las columnas days_employed y en la columna total_income. Se debe ver cómo se tratará cada uno de estas variables."
   ]
  },
  {
   "cell_type": "code",
   "execution_count": 6,
   "metadata": {
    "scrolled": true
   },
   "outputs": [
    {
     "name": "stdout",
     "output_type": "stream",
     "text": [
      "       children  days_employed  dob_years            education  education_id  \\\n",
      "12            0            NaN         65  secondary education             1   \n",
      "26            0            NaN         41  secondary education             1   \n",
      "29            0            NaN         63  secondary education             1   \n",
      "41            0            NaN         50  secondary education             1   \n",
      "55            0            NaN         54  secondary education             1   \n",
      "...         ...            ...        ...                  ...           ...   \n",
      "21489         2            NaN         47  Secondary Education             1   \n",
      "21495         1            NaN         50  secondary education             1   \n",
      "21497         0            NaN         48    BACHELOR'S DEGREE             0   \n",
      "21502         1            NaN         42  secondary education             1   \n",
      "21510         2            NaN         28  secondary education             1   \n",
      "\n",
      "           family_status  family_status_id gender    income_type  debt  \\\n",
      "12     civil partnership                 1      M        retiree     0   \n",
      "26               married                 0      M  civil servant     0   \n",
      "29             unmarried                 4      F        retiree     0   \n",
      "41               married                 0      F  civil servant     0   \n",
      "55     civil partnership                 1      F        retiree     1   \n",
      "...                  ...               ...    ...            ...   ...   \n",
      "21489            married                 0      M       business     0   \n",
      "21495  civil partnership                 1      F       employee     0   \n",
      "21497            married                 0      F       business     0   \n",
      "21502            married                 0      F       employee     0   \n",
      "21510            married                 0      F       employee     0   \n",
      "\n",
      "       total_income                   purpose  \n",
      "12              NaN         to have a wedding  \n",
      "26              NaN                 education  \n",
      "29              NaN    building a real estate  \n",
      "41              NaN  second-hand car purchase  \n",
      "55              NaN         to have a wedding  \n",
      "...             ...                       ...  \n",
      "21489           NaN         purchase of a car  \n",
      "21495           NaN          wedding ceremony  \n",
      "21497           NaN       building a property  \n",
      "21502           NaN    building a real estate  \n",
      "21510           NaN              car purchase  \n",
      "\n",
      "[2174 rows x 12 columns]\n"
     ]
    }
   ],
   "source": [
    "# Veamos la tabla filtrada con valores ausentes de la primera columna donde faltan datos\n",
    "print(file[file[\"days_employed\"].isna()])\n"
   ]
  },
  {
   "cell_type": "markdown",
   "metadata": {},
   "source": [
    "En esta primera columna, así como en total income, podemos suponer que la falta de información indica que las personas no tienen un trabajo, y por lo tanto, tampoco ingresos. Existiría un problema en la presentación de los datos."
   ]
  },
  {
   "cell_type": "code",
   "execution_count": 7,
   "metadata": {},
   "outputs": [
    {
     "name": "stdout",
     "output_type": "stream",
     "text": [
      "El número de valores vacios en la columna \"total_income\" y \"days employed\" es 2174\n",
      "El número de valores no vacios es 19351, los valores vacios representan el 10.1% de los datos\n"
     ]
    }
   ],
   "source": [
    "# Apliquemos múltiples condiciones para filtrar datos y veamos el número de filas en la tabla filtrada.\n",
    "null_1 = file[file[\"total_income\"].isna()]\n",
    "null_2 = len(null_1[null_1[\"days_employed\"].isna()])\n",
    "print(f'El número de valores vacios en la columna \"total_income\" y \"days employed\" es {null_2}')\n",
    "print(f'El número de valores no vacios es {len(file)-null_2}, los valores vacios representan el {round(null_2/len(file)*100,2)}% de los datos')"
   ]
  },
  {
   "cell_type": "markdown",
   "metadata": {},
   "source": [
    "**Conclusión intermedia**\n",
    "\n",
    "Como ponemos ver, el número de valores ausentes en ambas columnas indica por la información que no se tiene de los usuarios que estos estarían desempleados y, por ello, no indican un ingreso.\n",
    "\n",
    "Los valores vacíos representan 1/10 de la información. Podemos tomar como hipótesis que estas personas están desempleadas para nuestro análisis y no suprimir esta información. Sin embargo, también podríamos considerar el no tener trabajo como una característica que no nos interesaría estudiar, ya que queremos ver aquellos clientes potenciales."
   ]
  },
  {
   "cell_type": "code",
   "execution_count": 8,
   "metadata": {},
   "outputs": [
    {
     "name": "stdout",
     "output_type": "stream",
     "text": [
      "La edad promedio de las personas desempleadas es de 44 años\n"
     ]
    }
   ],
   "source": [
    "# Vamos a investigar a los clientes que no tienen datos sobre la característica identificada y la columna con los valores ausentes\n",
    "null_1.reset_index()\n",
    "print(f'La edad promedio de las personas desempleadas es de {round(null_1[\"dob_years\"].mean())} años')\n"
   ]
  },
  {
   "cell_type": "code",
   "execution_count": 9,
   "metadata": {},
   "outputs": [
    {
     "data": {
      "text/plain": [
       "0     10\n",
       "19     1\n",
       "20     5\n",
       "21    18\n",
       "22    17\n",
       "23    36\n",
       "24    21\n",
       "25    23\n",
       "26    35\n",
       "27    36\n",
       "28    57\n",
       "29    50\n",
       "30    58\n",
       "31    65\n",
       "32    37\n",
       "33    51\n",
       "34    69\n",
       "35    64\n",
       "36    63\n",
       "37    53\n",
       "38    54\n",
       "39    51\n",
       "40    66\n",
       "41    59\n",
       "42    65\n",
       "43    50\n",
       "44    44\n",
       "45    50\n",
       "46    48\n",
       "47    59\n",
       "48    46\n",
       "49    50\n",
       "50    51\n",
       "51    50\n",
       "52    53\n",
       "53    44\n",
       "54    55\n",
       "55    48\n",
       "56    54\n",
       "57    56\n",
       "58    56\n",
       "59    34\n",
       "60    39\n",
       "61    38\n",
       "62    38\n",
       "63    29\n",
       "64    37\n",
       "65    20\n",
       "66    20\n",
       "67    16\n",
       "68     9\n",
       "69     5\n",
       "70     3\n",
       "71     5\n",
       "72     2\n",
       "73     1\n",
       "Name: dob_years, dtype: int64"
      ]
     },
     "execution_count": 9,
     "metadata": {},
     "output_type": "execute_result"
    }
   ],
   "source": [
    "# Comprobación de la distribución\n",
    "null_1[\"dob_years\"].value_counts().sort_index()"
   ]
  },
  {
   "cell_type": "markdown",
   "metadata": {},
   "source": [
    "Las personas con datos ausentes tienen una gama de edad extendida. Sin embargo, también es dudoso que existan personas con 0 años, esto es un problema."
   ]
  },
  {
   "cell_type": "code",
   "execution_count": 10,
   "metadata": {},
   "outputs": [
    {
     "name": "stdout",
     "output_type": "stream",
     "text": [
      "La edad promedio de las personas en la muestra es de 43 años\n"
     ]
    },
    {
     "data": {
      "text/plain": [
       "0     101\n",
       "19     14\n",
       "20     51\n",
       "21    111\n",
       "22    183\n",
       "23    254\n",
       "24    264\n",
       "25    357\n",
       "26    408\n",
       "27    493\n",
       "28    503\n",
       "29    545\n",
       "30    540\n",
       "31    560\n",
       "32    510\n",
       "33    581\n",
       "34    603\n",
       "35    617\n",
       "36    555\n",
       "37    537\n",
       "38    598\n",
       "39    573\n",
       "40    609\n",
       "41    607\n",
       "42    597\n",
       "43    513\n",
       "44    547\n",
       "45    497\n",
       "46    475\n",
       "47    480\n",
       "48    538\n",
       "49    508\n",
       "50    514\n",
       "51    448\n",
       "52    484\n",
       "53    459\n",
       "54    479\n",
       "55    443\n",
       "56    487\n",
       "57    460\n",
       "58    461\n",
       "59    444\n",
       "60    377\n",
       "61    355\n",
       "62    352\n",
       "63    269\n",
       "64    265\n",
       "65    194\n",
       "66    183\n",
       "67    167\n",
       "68     99\n",
       "69     85\n",
       "70     65\n",
       "71     58\n",
       "72     33\n",
       "73      8\n",
       "74      6\n",
       "75      1\n",
       "Name: dob_years, dtype: int64"
      ]
     },
     "execution_count": 10,
     "metadata": {},
     "output_type": "execute_result"
    }
   ],
   "source": [
    "# Comprobando la distribución en el conjunto de datos entero\n",
    "print(f'La edad promedio de las personas en la muestra es de {round(file[\"dob_years\"].mean())} años')\n",
    "file[\"dob_years\"].value_counts().sort_index()"
   ]
  },
  {
   "cell_type": "markdown",
   "metadata": {},
   "source": [
    "**Conclusión intermedia**\n",
    "\n",
    "La distribución es casi la misma, visto en el promedio de las edades de valores ausentes y en la muestra en general."
   ]
  },
  {
   "cell_type": "code",
   "execution_count": 11,
   "metadata": {},
   "outputs": [
    {
     "name": "stdout",
     "output_type": "stream",
     "text": [
      "married              0.568997\n",
      "civil partnership    0.203312\n",
      "unmarried            0.132475\n",
      "divorced             0.051518\n",
      "widow / widower      0.043698\n",
      "Name: family_status, dtype: float64\n",
      "\n",
      "1    0.708372\n",
      "0    0.250230\n",
      "2    0.031739\n",
      "3    0.009660\n",
      "Name: education_id, dtype: float64\n",
      "\n",
      "F    0.682613\n",
      "M    0.317387\n",
      "Name: gender, dtype: float64\n",
      "\n",
      "0    0.921803\n",
      "1    0.078197\n",
      "Name: debt, dtype: float64\n",
      "\n",
      "employee         0.508280\n",
      "business         0.233671\n",
      "retiree          0.189972\n",
      "civil servant    0.067617\n",
      "entrepreneur     0.000460\n",
      "Name: income_type, dtype: float64\n",
      "\n"
     ]
    }
   ],
   "source": [
    "data_filtro = file[file['days_employed'].isna()]\n",
    "list_col = [\"family_status\", \"education_id\", \"gender\",\"debt\", \"income_type\"]\n",
    "for x in list_col:\n",
    "    print(data_filtro[x].value_counts(normalize=True))\n",
    "    print()"
   ]
  },
  {
   "cell_type": "markdown",
   "metadata": {},
   "source": [
    "Podemos ver en la información de las lineas filtradas, es decir vacías, que las características relevantes para aquellos en donde no hay datos es que estos no tienen una deuda en su mayor proporción. Asimismo, resalta que la mayoría de los valores vacíos tiene el nivel de estudios secundarios completos. Podría ser que al ser personas sin deudas no se tenga mayor información pues no se le ha hecho antes un estudio completo de su perfil."
   ]
  },
  {
   "cell_type": "code",
   "execution_count": 12,
   "metadata": {},
   "outputs": [
    {
     "name": "stdout",
     "output_type": "stream",
     "text": [
      "married              0.575836\n",
      "civil partnership    0.193013\n",
      "unmarried            0.130484\n",
      "divorced             0.055966\n",
      "widow / widower      0.044701\n",
      "Name: family_status, dtype: float64\n",
      "\n",
      "1    0.707612\n",
      "0    0.243708\n",
      "2    0.034882\n",
      "3    0.013488\n",
      "4    0.000310\n",
      "Name: education_id, dtype: float64\n",
      "\n",
      "F      0.658984\n",
      "M      0.340964\n",
      "XNA    0.000052\n",
      "Name: gender, dtype: float64\n",
      "\n",
      "0    0.918816\n",
      "1    0.081184\n",
      "Name: debt, dtype: float64\n",
      "\n",
      "employee                       0.517493\n",
      "business                       0.236525\n",
      "retiree                        0.177924\n",
      "civil servant                  0.067800\n",
      "unemployed                     0.000103\n",
      "student                        0.000052\n",
      "entrepreneur                   0.000052\n",
      "paternity / maternity leave    0.000052\n",
      "Name: income_type, dtype: float64\n",
      "\n"
     ]
    }
   ],
   "source": [
    "data_filtro_2 = file[file['days_employed'].isna()==False]\n",
    "list_col = [\"family_status\", \"education_id\", \"gender\",\"debt\", \"income_type\"]\n",
    "for x in list_col:\n",
    "    print(data_filtro_2[x].value_counts(normalize=True))\n",
    "    print()"
   ]
  },
  {
   "cell_type": "markdown",
   "metadata": {},
   "source": [
    "Adicionalmente podemos ver como los valores de las variables con datos no NaN siguen una distribución similar. Lo cual correspondería entonces más a una distribución de la muestra. Por ello, los datos vacíos se distribuyen igual que la muestra y probablemente no se debería a un problema mayor."
   ]
  },
  {
   "cell_type": "markdown",
   "metadata": {},
   "source": [
    "**Conclusión intermedia**\n",
    "\n",
    "Indicamos que los valores ausentes no son opcionales, se ve que los valores ausentes se presentan en ambas columnas, tanto en Días de trabajo como total de ingresos."
   ]
  },
  {
   "cell_type": "markdown",
   "metadata": {},
   "source": [
    "**Conclusiones**\n",
    "\n",
    "Es necesario darle a estas filas las características de desempleo, tanto por un lado, rellenar el vacío en las columnas correspondientes."
   ]
  },
  {
   "cell_type": "markdown",
   "metadata": {},
   "source": [
    "## Transformación de datos <a id='data_trans'></a>"
   ]
  },
  {
   "cell_type": "code",
   "execution_count": 13,
   "metadata": {},
   "outputs": [
    {
     "data": {
      "text/plain": [
       "secondary education    13750\n",
       "bachelor's degree       4718\n",
       "SECONDARY EDUCATION      772\n",
       "Secondary Education      711\n",
       "some college             668\n",
       "BACHELOR'S DEGREE        274\n",
       "Bachelor's Degree        268\n",
       "primary education        250\n",
       "Some College              47\n",
       "SOME COLLEGE              29\n",
       "PRIMARY EDUCATION         17\n",
       "Primary Education         15\n",
       "graduate degree            4\n",
       "GRADUATE DEGREE            1\n",
       "Graduate Degree            1\n",
       "Name: education, dtype: int64"
      ]
     },
     "execution_count": 13,
     "metadata": {},
     "output_type": "execute_result"
    }
   ],
   "source": [
    "# Veamos todos los valores en la columna de educación para verificar si será necesario corregir la ortografía y qué habrá que corregir exactamente\n",
    "file[\"education\"].value_counts()"
   ]
  },
  {
   "cell_type": "code",
   "execution_count": 14,
   "metadata": {
    "scrolled": true
   },
   "outputs": [],
   "source": [
    "# Arregla los registros si es necesario\n",
    "file[\"education\"] = file[\"education\"].str.lower()"
   ]
  },
  {
   "cell_type": "markdown",
   "metadata": {},
   "source": [
    "<div class=\"alert alert-block alert-success\">\n",
    "<b>Comentario del revisor</b> <a class=\"tocSkip\"></a>\n",
    "    \n",
    "Buen trabajo.\n",
    "</div>"
   ]
  },
  {
   "cell_type": "code",
   "execution_count": 15,
   "metadata": {},
   "outputs": [
    {
     "data": {
      "text/plain": [
       "secondary education    15233\n",
       "bachelor's degree       5260\n",
       "some college             744\n",
       "primary education        282\n",
       "graduate degree            6\n",
       "Name: education, dtype: int64"
      ]
     },
     "execution_count": 15,
     "metadata": {},
     "output_type": "execute_result"
    }
   ],
   "source": [
    "# Comprobar todos los valores en la columna para asegurarnos de que los hayamos corregido\n",
    "file[\"education\"].value_counts()"
   ]
  },
  {
   "cell_type": "code",
   "execution_count": 16,
   "metadata": {},
   "outputs": [
    {
     "name": "stdout",
     "output_type": "stream",
     "text": [
      " 0     14149\n",
      " 1      4818\n",
      " 2      2055\n",
      " 3       330\n",
      " 20       76\n",
      "-1        47\n",
      " 4        41\n",
      " 5         9\n",
      "Name: children, dtype: int64\n",
      "\n",
      "0.5714285714285714 %\n"
     ]
    }
   ],
   "source": [
    "# Veamos la distribución de los valores en la columna `children`\n",
    "print(file[\"children\"].value_counts())\n",
    "print()\n",
    "print((47+76)/len(file)*100,\"%\")"
   ]
  },
  {
   "cell_type": "markdown",
   "metadata": {},
   "source": [
    "No es posible tener 1 hijo negativo, y parece dudoso que haya 76 personas con 20 hijos. Suponemos que el digitador se equivocó y quiso poner 2, en ves de 20 y -1 en ves de 1. El error supone apenas un 0.57%."
   ]
  },
  {
   "cell_type": "code",
   "execution_count": 17,
   "metadata": {},
   "outputs": [],
   "source": [
    "# [arregla los datos según tu decisión]\n",
    "file[\"children\"] = file[\"children\"].replace(-1,1)\n",
    "file[\"children\"] = file[\"children\"].replace(20,2)"
   ]
  },
  {
   "cell_type": "code",
   "execution_count": 18,
   "metadata": {
    "scrolled": true
   },
   "outputs": [
    {
     "data": {
      "text/plain": [
       "0    14149\n",
       "1     4865\n",
       "2     2131\n",
       "3      330\n",
       "4       41\n",
       "5        9\n",
       "Name: children, dtype: int64"
      ]
     },
     "execution_count": 18,
     "metadata": {},
     "output_type": "execute_result"
    }
   ],
   "source": [
    "# Comprobar la columna `children` de nuevo para asegurarnos de que todo está arreglado\n",
    "file[\"children\"].value_counts()"
   ]
  },
  {
   "cell_type": "markdown",
   "metadata": {},
   "source": [
    "\n",
    "\n"
   ]
  },
  {
   "cell_type": "code",
   "execution_count": 19,
   "metadata": {},
   "outputs": [
    {
     "name": "stdout",
     "output_type": "stream",
     "text": [
      "16335   -18388.949901\n",
      "4299    -17615.563266\n",
      "7329    -16593.472817\n",
      "17838   -16264.699501\n",
      "16825   -16119.687737\n",
      "             ...     \n",
      "21489             NaN\n",
      "21495             NaN\n",
      "21497             NaN\n",
      "21502             NaN\n",
      "21510             NaN\n",
      "Name: days_employed, Length: 21525, dtype: float64\n"
     ]
    }
   ],
   "source": [
    "# Encuentra datos problemáticos en `days_employed`, si existen, y calcula el porcentaje\n",
    "print(file[\"days_employed\"].sort_values())"
   ]
  },
  {
   "cell_type": "markdown",
   "metadata": {},
   "source": [
    "2 problemas, el Nan y luego que los días de empleado son negativos. La razón posible por la que estos días son negativos sería otra vez, un problema de tipeo."
   ]
  },
  {
   "cell_type": "code",
   "execution_count": 20,
   "metadata": {
    "scrolled": true
   },
   "outputs": [
    {
     "name": "stdout",
     "output_type": "stream",
     "text": [
      "17437        24.0\n",
      "8336         24.0\n",
      "6157         30.0\n",
      "9683         34.0\n",
      "2127         35.0\n",
      "           ...   \n",
      "7794     401664.0\n",
      "2156     401674.0\n",
      "7664     401675.0\n",
      "10006    401716.0\n",
      "6954     401755.0\n",
      "Name: days_employed, Length: 19351, dtype: float64\n"
     ]
    }
   ],
   "source": [
    "# Pasamos los datos negativos a positivos.\n",
    "file[\"days_employed\"] = file[\"days_employed\"].abs().round()\n",
    "#Se quita los n.a. para poder visualizar los valores\n",
    "print(file[\"days_employed\"].dropna().sort_values())\n"
   ]
  },
  {
   "cell_type": "code",
   "execution_count": 21,
   "metadata": {},
   "outputs": [
    {
     "name": "stdout",
     "output_type": "stream",
     "text": [
      "0.16004645760743322\n"
     ]
    },
    {
     "data": {
      "image/png": "[encoded data removed]",
      "text/plain": [
       "<Figure size 432x288 with 1 Axes>"
      ]
     },
     "metadata": {
      "needs_background": "light"
     },
     "output_type": "display_data"
    }
   ],
   "source": [
    "file[\"days_employed\"].hist()\n",
    "print(len(file[file[\"days_employed\"]>300000])/len(file))"
   ]
  },
  {
   "cell_type": "markdown",
   "metadata": {},
   "source": [
    "Podemos ver que los valores prolemáticos representan un 16% del total. Eliminarlos sería problemático. Entendemos que estos supuestos días puedan haber sido horas que no han sido convertidas."
   ]
  },
  {
   "cell_type": "code",
   "execution_count": 22,
   "metadata": {},
   "outputs": [
    {
     "name": "stdout",
     "output_type": "stream",
     "text": [
      "3445\n",
      "3445\n"
     ]
    },
    {
     "data": {
      "text/plain": [
       "<AxesSubplot:>"
      ]
     },
     "execution_count": 22,
     "metadata": {},
     "output_type": "execute_result"
    },
    {
     "data": {
      "image/png": "[encoded data removed]",
      "text/plain": [
       "<Figure size 432x288 with 1 Axes>"
      ]
     },
     "metadata": {
      "needs_background": "light"
     },
     "output_type": "display_data"
    }
   ],
   "source": [
    "datos_corregir = file[file[\"days_employed\"]>300000][\"days_employed\"]\n",
    "datos_corregir = datos_corregir /24\n",
    "datos_corregir = datos_corregir.round()\n",
    "print(len(file[file[\"days_employed\"]>300000]))\n",
    "print(len(datos_corregir))\n",
    "file.loc[file[\"days_employed\"]>300000,\"days_employed\"] = datos_corregir\n",
    "file[\"days_employed\"].hist()"
   ]
  },
  {
   "cell_type": "markdown",
   "metadata": {},
   "source": [
    "Podemos ver que los días han sido ordenados y los valores negativos arreglados. Hemos podido ver que los valores altos han sido pasados de horas trabajadas a dias trabajados. De esta forma se puede lograr un valor medio. Los datos N.A. serán arreglados más adelante."
   ]
  },
  {
   "cell_type": "code",
   "execution_count": 23,
   "metadata": {
    "scrolled": true
   },
   "outputs": [
    {
     "data": {
      "text/plain": [
       "0        42\n",
       "1        36\n",
       "2        33\n",
       "3        32\n",
       "4        53\n",
       "         ..\n",
       "21520    43\n",
       "21521    67\n",
       "21522    38\n",
       "21523    38\n",
       "21524    40\n",
       "Name: dob_years, Length: 21525, dtype: int64"
      ]
     },
     "execution_count": 23,
     "metadata": {},
     "output_type": "execute_result"
    }
   ],
   "source": [
    "# Revisa `dob_years` en busca de valores sospechosos y cuenta el porcentaje\n",
    "file[\"dob_years\"]"
   ]
  },
  {
   "cell_type": "markdown",
   "metadata": {},
   "source": [
    "Hay personas con 0 años de edad. Esto es un claro problema. En este caso no podemos asumir cuál era el valor correcto, por ello, sería lo mejor suprimirlo del estudio. Ademas existen personas con edades negativas, estas suponemos son un error de tipeo."
   ]
  },
  {
   "cell_type": "code",
   "execution_count": 24,
   "metadata": {},
   "outputs": [
    {
     "name": "stdout",
     "output_type": "stream",
     "text": [
      "      children  days_employed  dob_years            education  education_id  \\\n",
      "99           0        14439.0          0  secondary education             1   \n",
      "149          0         2664.0          0  secondary education             1   \n",
      "270          3         1873.0          0  secondary education             1   \n",
      "578          0        16577.0          0  secondary education             1   \n",
      "1040         0         1158.0          0    bachelor's degree             0   \n",
      "1149         0          935.0          0  secondary education             1   \n",
      "1175         0        15453.0          0  secondary education             1   \n",
      "1386         0         5043.0          0    bachelor's degree             0   \n",
      "1890         0            NaN          0    bachelor's degree             0   \n",
      "1898         0        15423.0          0  secondary education             1   \n",
      "\n",
      "        family_status  family_status_id gender    income_type  debt  \\\n",
      "99            married                 0      F        retiree     0   \n",
      "149          divorced                 3      F       employee     0   \n",
      "270           married                 0      F       employee     0   \n",
      "578           married                 0      F        retiree     0   \n",
      "1040         divorced                 3      F       business     0   \n",
      "1149          married                 0      F       business     0   \n",
      "1175          married                 0      F        retiree     0   \n",
      "1386          married                 0      M  civil servant     0   \n",
      "1890        unmarried                 4      F       employee     0   \n",
      "1898  widow / widower                 2      F        retiree     0   \n",
      "\n",
      "      total_income                           purpose  \n",
      "99       11406.644                               car  \n",
      "149      11228.230              housing transactions  \n",
      "270      16346.633                housing renovation  \n",
      "578      15619.310      construction of own property  \n",
      "1040     48639.062                      to own a car  \n",
      "1149     32296.389                   buy real estate  \n",
      "1175     50231.975  to get a supplementary education  \n",
      "1386     38483.779                 purchase of a car  \n",
      "1890           NaN                           housing  \n",
      "1898     20384.043                      to buy a car  \n"
     ]
    }
   ],
   "source": [
    "ceros = file[file[\"dob_years\"]==0]\n",
    "print(ceros.head(10))"
   ]
  },
  {
   "cell_type": "markdown",
   "metadata": {},
   "source": [
    "Sería importante indagar porqué sucedió este error. Vemos que los perfiles son diversos con respecto a los datos. Por ello podemos suponer que el digitador escribió, por ejemplo, 0 en vez de 40 en un rango de edades múltiple. Vemos cuántos errores hay así."
   ]
  },
  {
   "cell_type": "code",
   "execution_count": 25,
   "metadata": {
    "scrolled": true
   },
   "outputs": [
    {
     "name": "stdout",
     "output_type": "stream",
     "text": [
      " El porcentaje de personas con 0 años es de 0.4692218350754936 %. Irrelevante en el total\n",
      "\n"
     ]
    }
   ],
   "source": [
    "# Resuelve los problemas en la columna `dob_years`, si existen\n",
    "error_porcent = len(file[file[\"dob_years\"]==0]) / len(file[\"dob_years\"])\n",
    "print(f' El porcentaje de personas con 0 años es de {error_porcent*100} %. Irrelevante en el total')\n",
    "print()\n",
    "file = file[file[\"dob_years\"]!=0]"
   ]
  },
  {
   "cell_type": "markdown",
   "metadata": {},
   "source": [
    "Vemos que el porcentaje es apenas del 0.47% aproximadamente de la muestra. Se podría asignarle un valor a esta edad a través de una mediana, mas no lo haremos pues es estadísticamente es irrelevante."
   ]
  },
  {
   "cell_type": "code",
   "execution_count": 26,
   "metadata": {},
   "outputs": [
    {
     "name": "stdout",
     "output_type": "stream",
     "text": [
      "   children  days_employed  dob_years            education  education_id  \\\n",
      "0         1         8438.0         42    bachelor's degree             0   \n",
      "1         1         4025.0         36  secondary education             1   \n",
      "2         0         5623.0         33  secondary education             1   \n",
      "3         3         4125.0         32  secondary education             1   \n",
      "4         0        14178.0         53  secondary education             1   \n",
      "\n",
      "       family_status  family_status_id gender income_type  debt  total_income  \\\n",
      "0            married                 0      F    employee     0     40620.102   \n",
      "1            married                 0      F    employee     0     17932.802   \n",
      "2            married                 0      M    employee     0     23341.752   \n",
      "3            married                 0      M    employee     0     42820.568   \n",
      "4  civil partnership                 1      F     retiree     0     25378.572   \n",
      "\n",
      "                   purpose  \n",
      "0    purchase of the house  \n",
      "1             car purchase  \n",
      "2    purchase of the house  \n",
      "3  supplementary education  \n",
      "4        to have a wedding  \n",
      "<class 'pandas.core.frame.DataFrame'>\n",
      "Int64Index: 21424 entries, 0 to 21524\n",
      "Data columns (total 12 columns):\n",
      " #   Column            Non-Null Count  Dtype  \n",
      "---  ------            --------------  -----  \n",
      " 0   children          21424 non-null  int64  \n",
      " 1   days_employed     19260 non-null  float64\n",
      " 2   dob_years         21424 non-null  int64  \n",
      " 3   education         21424 non-null  object \n",
      " 4   education_id      21424 non-null  int64  \n",
      " 5   family_status     21424 non-null  object \n",
      " 6   family_status_id  21424 non-null  int64  \n",
      " 7   gender            21424 non-null  object \n",
      " 8   income_type       21424 non-null  object \n",
      " 9   debt              21424 non-null  int64  \n",
      " 10  total_income      19260 non-null  float64\n",
      " 11  purpose           21424 non-null  object \n",
      "dtypes: float64(2), int64(5), object(5)\n",
      "memory usage: 2.1+ MB\n"
     ]
    }
   ],
   "source": [
    "# Comprueba el resultado - asegúrate de que esté arreglado\n",
    "print(file.head())\n",
    "file.info()"
   ]
  },
  {
   "cell_type": "code",
   "execution_count": 27,
   "metadata": {},
   "outputs": [
    {
     "name": "stdout",
     "output_type": "stream",
     "text": [
      "married              12331\n",
      "civil partnership     4156\n",
      "unmarried             2797\n",
      "divorced              1185\n",
      "widow / widower        955\n",
      "Name: family_status, dtype: int64\n"
     ]
    }
   ],
   "source": [
    "# Veamos los valores de la columna\n",
    "print(file[\"family_status\"].value_counts())"
   ]
  },
  {
   "cell_type": "markdown",
   "metadata": {},
   "source": [
    "Parece no haber problemas en los valores presentados."
   ]
  },
  {
   "cell_type": "code",
   "execution_count": 28,
   "metadata": {},
   "outputs": [
    {
     "name": "stdout",
     "output_type": "stream",
     "text": [
      "F      14164\n",
      "M       7259\n",
      "XNA        1\n",
      "Name: gender, dtype: int64\n"
     ]
    }
   ],
   "source": [
    "# Veamos los valores en la columna\n",
    "print(file[\"gender\"].value_counts())"
   ]
  },
  {
   "cell_type": "markdown",
   "metadata": {},
   "source": [
    "Aborda los valores problemáticos, si existen.\n",
    "XNA puede ser una entrada para hacer referencia a otro género. No será suprimido."
   ]
  },
  {
   "cell_type": "code",
   "execution_count": 29,
   "metadata": {},
   "outputs": [
    {
     "name": "stdout",
     "output_type": "stream",
     "text": [
      "employee                       11064\n",
      "business                        5065\n",
      "retiree                         3836\n",
      "civil servant                   1453\n",
      "entrepreneur                       2\n",
      "unemployed                         2\n",
      "student                            1\n",
      "paternity / maternity leave        1\n",
      "Name: income_type, dtype: int64\n"
     ]
    }
   ],
   "source": [
    "# Veamos los valores en la columna\n",
    "print(file[\"income_type\"].value_counts())"
   ]
  },
  {
   "cell_type": "markdown",
   "metadata": {},
   "source": [
    "No hay problemas."
   ]
  },
  {
   "cell_type": "code",
   "execution_count": 30,
   "metadata": {},
   "outputs": [
    {
     "name": "stdout",
     "output_type": "stream",
     "text": [
      "       children  days_employed  dob_years            education  education_id  \\\n",
      "2849          0            NaN         41  secondary education             1   \n",
      "3290          0            NaN         58  secondary education             1   \n",
      "4182          1            NaN         34    bachelor's degree             0   \n",
      "4851          0            NaN         60  secondary education             1   \n",
      "5557          0            NaN         58  secondary education             1   \n",
      "...         ...            ...        ...                  ...           ...   \n",
      "20702         0            NaN         64  secondary education             1   \n",
      "21032         0            NaN         60  secondary education             1   \n",
      "21132         0            NaN         47  secondary education             1   \n",
      "21281         1            NaN         30    bachelor's degree             0   \n",
      "21415         0            NaN         54  secondary education             1   \n",
      "\n",
      "           family_status  family_status_id gender income_type  debt  \\\n",
      "2849             married                 0      F    employee     0   \n",
      "3290   civil partnership                 1      F     retiree     0   \n",
      "4182   civil partnership                 1      F    employee     0   \n",
      "4851   civil partnership                 1      F     retiree     0   \n",
      "5557   civil partnership                 1      F     retiree     0   \n",
      "...                  ...               ...    ...         ...   ...   \n",
      "20702            married                 0      F     retiree     0   \n",
      "21032            married                 0      F     retiree     0   \n",
      "21132            married                 0      F    employee     0   \n",
      "21281            married                 0      F    employee     0   \n",
      "21415            married                 0      F     retiree     0   \n",
      "\n",
      "       total_income                              purpose  \n",
      "2849            NaN  purchase of the house for my family  \n",
      "3290            NaN                    to have a wedding  \n",
      "4182            NaN                     wedding ceremony  \n",
      "4851            NaN                     wedding ceremony  \n",
      "5557            NaN                    to have a wedding  \n",
      "...             ...                                  ...  \n",
      "20702           NaN              supplementary education  \n",
      "21032           NaN                   to become educated  \n",
      "21132           NaN                   housing renovation  \n",
      "21281           NaN           buy commercial real estate  \n",
      "21415           NaN                 housing transactions  \n",
      "\n",
      "[71 rows x 12 columns]\n"
     ]
    }
   ],
   "source": [
    "# Comprobar los duplicados\n",
    "print(file[file.duplicated()==True])"
   ]
  },
  {
   "cell_type": "markdown",
   "metadata": {},
   "source": [
    "Aborda los duplicados, si existen:\n",
    "Vemos que existen duplicados en cuanto a diferentes variables, pero esto no tiene porqué alarmarnos. Muchos de los usuarios pueden presentar las mismas características. Si un identificador único estuviese repetido, entonces habría porqué preocuparse."
   ]
  },
  {
   "cell_type": "markdown",
   "metadata": {},
   "source": [
    "# Trabajar con valores ausentes"
   ]
  },
  {
   "cell_type": "code",
   "execution_count": 31,
   "metadata": {},
   "outputs": [],
   "source": [
    "education_id_info = {\n",
    "    '0': \"bachelor's degree\",\n",
    "    '1': \"secondary education\",\n",
    "    '2': \"some college\",\n",
    "    '3': \"primary education\",\n",
    "    '4': \"graduate degree\" \n",
    "}\n",
    "\n",
    "family_status_info = {\n",
    "    '0': \"married\",\n",
    "    '1': \"civil partnership\",\n",
    "    '2': \"widow / widower\",\n",
    "    '3': \"divorced\",\n",
    "    '4': \"unmarried\" \n",
    "}"
   ]
  },
  {
   "cell_type": "markdown",
   "metadata": {},
   "source": [
    "Se puede utilizar los diccionarios para poder entender mejor la data. Por ejemplo, \n",
    "education_id - identificador de educación\n",
    "family_status_id - identifica el status de la familia. En este caso, no es tan necesario pues el label del código ya se encuentra en nuestras columnas.\n",
    "    "
   ]
  },
  {
   "cell_type": "markdown",
   "metadata": {},
   "source": [
    "### Restaurar valores ausentes en `total_income`"
   ]
  },
  {
   "cell_type": "code",
   "execution_count": 32,
   "metadata": {
    "scrolled": true
   },
   "outputs": [
    {
     "name": "stdout",
     "output_type": "stream",
     "text": [
      "   children  days_employed  dob_years            education  education_id  \\\n",
      "0         1         8438.0         42    bachelor's degree             0   \n",
      "1         1         4025.0         36  secondary education             1   \n",
      "2         0         5623.0         33  secondary education             1   \n",
      "3         3         4125.0         32  secondary education             1   \n",
      "4         0        14178.0         53  secondary education             1   \n",
      "5         0          926.0         27    bachelor's degree             0   \n",
      "6         0         2879.0         43    bachelor's degree             0   \n",
      "7         0          153.0         50  secondary education             1   \n",
      "8         2         6930.0         35    bachelor's degree             0   \n",
      "9         0         2189.0         41  secondary education             1   \n",
      "\n",
      "       family_status  family_status_id gender income_type  debt  total_income  \\\n",
      "0            married                 0      F    employee     0     40620.102   \n",
      "1            married                 0      F    employee     0     17932.802   \n",
      "2            married                 0      M    employee     0     23341.752   \n",
      "3            married                 0      M    employee     0     42820.568   \n",
      "4  civil partnership                 1      F     retiree     0     25378.572   \n",
      "5  civil partnership                 1      M    business     0     40922.170   \n",
      "6            married                 0      F    business     0     38484.156   \n",
      "7            married                 0      M    employee     0     21731.829   \n",
      "8  civil partnership                 1      F    employee     0     15337.093   \n",
      "9            married                 0      M    employee     0     23108.150   \n",
      "\n",
      "                               purpose  \n",
      "0                purchase of the house  \n",
      "1                         car purchase  \n",
      "2                purchase of the house  \n",
      "3              supplementary education  \n",
      "4                    to have a wedding  \n",
      "5                purchase of the house  \n",
      "6                 housing transactions  \n",
      "7                            education  \n",
      "8                     having a wedding  \n",
      "9  purchase of the house for my family  \n"
     ]
    },
    {
     "data": {
      "text/plain": [
       "<AxesSubplot:>"
      ]
     },
     "execution_count": 32,
     "metadata": {},
     "output_type": "execute_result"
    },
    {
     "data": {
      "image/png": "[encoded data removed]",
      "text/plain": [
       "<Figure size 432x288 with 1 Axes>"
      ]
     },
     "metadata": {
      "needs_background": "light"
     },
     "output_type": "display_data"
    }
   ],
   "source": [
    "# Crea una tabla sin valores ausentes y muestra algunas de sus filas para asegurarte de que se ve bien\n",
    "val_no_aus = file[file[\"total_income\"].isna()==False]\n",
    "print(val_no_aus.head(10))\n",
    "val_no_aus[\"dob_years\"].hist()"
   ]
  },
  {
   "cell_type": "code",
   "execution_count": 33,
   "metadata": {},
   "outputs": [
    {
     "name": "stdout",
     "output_type": "stream",
     "text": [
      "Adulto          11019\n",
      "Adulto mayor     6682\n",
      "Adulto joven     3723\n",
      "Name: grupo_edad, dtype: int64\n"
     ]
    }
   ],
   "source": [
    "#Categorizando los valores de dob_years\n",
    "def grupo_edad(status): \n",
    "    if status <= 30:\n",
    "        return 'Adulto joven'\n",
    "    elif status <= 50:\n",
    "        return 'Adulto'\n",
    "    else:\n",
    "        return 'Adulto mayor'\n",
    "        \n",
    "file[\"grupo_edad\"] = file[\"dob_years\"].apply(grupo_edad)\n",
    "print(file[\"grupo_edad\"].value_counts())"
   ]
  },
  {
   "cell_type": "code",
   "execution_count": 34,
   "metadata": {},
   "outputs": [
    {
     "name": "stdout",
     "output_type": "stream",
     "text": [
      "La media de ingresos de Adulto es : 28383.0\n",
      "La media de ingresos de Adulto mayor es : 24704.0\n",
      "La media de ingresos de Adulto joven es : 25818.0\n"
     ]
    }
   ],
   "source": [
    "# Examina los valores medios de los ingresos en función de los factores que identificaste\n",
    "for x in file[\"grupo_edad\"].unique():\n",
    "    sample_mean = file[file[\"grupo_edad\"]==x][\"total_income\"].mean().round()\n",
    "    print(f'La media de ingresos de {x} es : {sample_mean}')"
   ]
  },
  {
   "cell_type": "code",
   "execution_count": 35,
   "metadata": {
    "scrolled": true
   },
   "outputs": [
    {
     "name": "stdout",
     "output_type": "stream",
     "text": [
      "La mediana de ingresos de Adulto es : 24712.0\n",
      "La mediana de ingresos de Adulto mayor es : 21311.0\n",
      "La mediana de ingresos de Adulto joven es : 22957.0\n"
     ]
    }
   ],
   "source": [
    "# Examina los valores medianos de los ingresos en función de los factores que identificaste\n",
    "for x in file[\"grupo_edad\"].unique():\n",
    "    sample_median = file[file[\"grupo_edad\"]==x][\"total_income\"].median().round()\n",
    "    print(f'La mediana de ingresos de {x} es : {sample_median}')"
   ]
  },
  {
   "cell_type": "code",
   "execution_count": 36,
   "metadata": {},
   "outputs": [
    {
     "name": "stdout",
     "output_type": "stream",
     "text": [
      "Adulto\n",
      "Adulto mayor\n",
      "Adulto joven\n"
     ]
    },
    {
     "data": {
      "image/png": "[encoded data removed]",
      "text/plain": [
       "<Figure size 432x288 with 1 Axes>"
      ]
     },
     "metadata": {
      "needs_background": "light"
     },
     "output_type": "display_data"
    }
   ],
   "source": [
    "for x in file[\"grupo_edad\"].unique():\n",
    "    print(x)\n",
    "    variable = file[file[\"grupo_edad\"]==x][\"total_income\"]\n",
    "    variable.hist()"
   ]
  },
  {
   "cell_type": "markdown",
   "metadata": {},
   "source": [
    "Vemos que en los subgrupos la distribución es asimétrica hacia la derecha. Por lo tanto la mediana sería una mejor aproximacion a ello."
   ]
  },
  {
   "cell_type": "code",
   "execution_count": 37,
   "metadata": {
    "scrolled": true
   },
   "outputs": [],
   "source": [
    "med_vars = file.groupby('grupo_edad')['total_income'].transform('median')\n",
    "file['total_income'].fillna(med_vars, inplace=True)"
   ]
  },
  {
   "cell_type": "code",
   "execution_count": 38,
   "metadata": {
    "scrolled": true
   },
   "outputs": [
    {
     "name": "stdout",
     "output_type": "stream",
     "text": [
      "24711.8435    1095\n",
      "21310.9445     712\n",
      "22957.1850     357\n",
      "31791.3840       2\n",
      "17312.7170       2\n",
      "              ... \n",
      "29224.4030       1\n",
      "40299.3820       1\n",
      "10000.3920       1\n",
      "99284.6960       1\n",
      "41428.9160       1\n",
      "Name: total_income, Length: 19260, dtype: int64\n"
     ]
    }
   ],
   "source": [
    "# Comprueba si funciona\n",
    "print(file[\"total_income\"].value_counts(dropna=False))"
   ]
  },
  {
   "cell_type": "code",
   "execution_count": 39,
   "metadata": {},
   "outputs": [
    {
     "name": "stdout",
     "output_type": "stream",
     "text": [
      "0.0\n"
     ]
    }
   ],
   "source": [
    "# Comprueba si tenemos algún error\n",
    "print(file[file[\"total_income\"].isna()==True].sum()[\"total_income\"])"
   ]
  },
  {
   "cell_type": "markdown",
   "metadata": {},
   "source": [
    "Los valores han sido completados correctamente con la mediana.\n"
   ]
  },
  {
   "cell_type": "code",
   "execution_count": 40,
   "metadata": {},
   "outputs": [
    {
     "name": "stdout",
     "output_type": "stream",
     "text": [
      "<class 'pandas.core.frame.DataFrame'>\n",
      "Int64Index: 21424 entries, 0 to 21524\n",
      "Data columns (total 13 columns):\n",
      " #   Column            Non-Null Count  Dtype  \n",
      "---  ------            --------------  -----  \n",
      " 0   children          21424 non-null  int64  \n",
      " 1   days_employed     19260 non-null  float64\n",
      " 2   dob_years         21424 non-null  int64  \n",
      " 3   education         21424 non-null  object \n",
      " 4   education_id      21424 non-null  int64  \n",
      " 5   family_status     21424 non-null  object \n",
      " 6   family_status_id  21424 non-null  int64  \n",
      " 7   gender            21424 non-null  object \n",
      " 8   income_type       21424 non-null  object \n",
      " 9   debt              21424 non-null  int64  \n",
      " 10  total_income      21424 non-null  float64\n",
      " 11  purpose           21424 non-null  object \n",
      " 12  grupo_edad        21424 non-null  object \n",
      "dtypes: float64(2), int64(5), object(6)\n",
      "memory usage: 2.3+ MB\n"
     ]
    }
   ],
   "source": [
    "# Comprobar el número de entradas en las columnas\n",
    "file.info()"
   ]
  },
  {
   "cell_type": "markdown",
   "metadata": {},
   "source": [
    "###  Restaurar valores en `days_employed`"
   ]
  },
  {
   "cell_type": "code",
   "execution_count": 41,
   "metadata": {},
   "outputs": [
    {
     "name": "stdout",
     "output_type": "stream",
     "text": [
      "Más de 25 años        5970\n",
      "Entre 5 y 10 años     4106\n",
      "Entre 1 y 3 años      3883\n",
      "Entre 3 y 5 años      2891\n",
      "Entre 10 y 25 años    2758\n",
      "Menos de 1 año        1816\n",
      "Name: days_employed_cat, dtype: int64\n"
     ]
    }
   ],
   "source": [
    "#Categorizando los valores de dob_years\n",
    "def grupo_dias(status): \n",
    "    if status < 365:\n",
    "        return 'Menos de 1 año'\n",
    "    elif status < 365*3:\n",
    "        return 'Entre 1 y 3 años'\n",
    "    elif status < 365*5:\n",
    "        return 'Entre 3 y 5 años'\n",
    "    elif status < 365*10:\n",
    "        return 'Entre 5 y 10 años'\n",
    "    elif status < 365*25:\n",
    "        return 'Entre 10 y 25 años'\n",
    "    else:\n",
    "        return \"Más de 25 años\"\n",
    "        \n",
    "file[\"days_employed_cat\"] = file[\"days_employed\"].apply(grupo_dias)\n",
    "print(file[\"days_employed_cat\"].value_counts())"
   ]
  },
  {
   "cell_type": "code",
   "execution_count": 42,
   "metadata": {
    "pycharm": {
     "name": "#%%\n"
    }
   },
   "outputs": [
    {
     "name": "stdout",
     "output_type": "stream",
     "text": [
      "La media de ingresos de personas que trabajaron Entre 10 y 25 años es : 5394.0\n",
      "La media de ingresos de personas que trabajaron Más de 25 años es : 14806.0\n",
      "La media de ingresos de personas que trabajaron Entre 1 y 3 años es : 722.0\n",
      "La media de ingresos de personas que trabajaron Entre 5 y 10 años es : 2632.0\n",
      "La media de ingresos de personas que trabajaron Menos de 1 año es : 221.0\n",
      "La media de ingresos de personas que trabajaron Entre 3 y 5 años es : 1439.0\n"
     ]
    }
   ],
   "source": [
    "# Distribución de las medianas de `days_employed` en función de los parámetros identificados\n",
    "for x in file[\"days_employed_cat\"].unique():\n",
    "    sample_mean = file[file[\"days_employed_cat\"]==x][\"days_employed\"].mean().round()\n",
    "    print(f'La media de ingresos de personas que trabajaron {x} es : {sample_mean}')"
   ]
  },
  {
   "cell_type": "code",
   "execution_count": 43,
   "metadata": {},
   "outputs": [
    {
     "name": "stdout",
     "output_type": "stream",
     "text": [
      "La mediana de ingresos de personas que trabajaron Entre 10 y 25 años es : 5009.0\n",
      "La mediana de ingresos de personas que trabajaron Más de 25 años es : 15049.0\n",
      "La mediana de ingresos de personas que trabajaron Entre 1 y 3 años es : 717.0\n",
      "La mediana de ingresos de personas que trabajaron Entre 5 y 10 años es : 2580.0\n",
      "La mediana de ingresos de personas que trabajaron Menos de 1 año es : 220.0\n",
      "La mediana de ingresos de personas que trabajaron Entre 3 y 5 años es : 1430.0\n"
     ]
    }
   ],
   "source": [
    "# Distribución de las medias de `days_employed` en función de los parámetros identificados\n",
    "for x in file[\"days_employed_cat\"].unique():\n",
    "    sample_median = file[file[\"days_employed_cat\"]==x][\"days_employed\"].median()\n",
    "    print(f'La mediana de ingresos de personas que trabajaron {x} es : {round(sample_median,0)}')"
   ]
  },
  {
   "cell_type": "code",
   "execution_count": 44,
   "metadata": {},
   "outputs": [
    {
     "name": "stdout",
     "output_type": "stream",
     "text": [
      "Entre 10 y 25 años\n",
      "Más de 25 años\n",
      "Entre 1 y 3 años\n",
      "Entre 5 y 10 años\n",
      "Menos de 1 año\n",
      "Entre 3 y 5 años\n"
     ]
    },
    {
     "data": {
      "image/png": "[encoded data removed]",
      "text/plain": [
       "<Figure size 432x288 with 1 Axes>"
      ]
     },
     "metadata": {
      "needs_background": "light"
     },
     "output_type": "display_data"
    }
   ],
   "source": [
    "for x in file[\"days_employed_cat\"].unique():\n",
    "    print(x)\n",
    "    variable = file[file[\"days_employed_cat\"]==x][\"days_employed\"]\n",
    "    variable.hist()"
   ]
  },
  {
   "cell_type": "markdown",
   "metadata": {},
   "source": [
    "La distrubición de datos muestra datos extremos y distribuciones no normales, existen datos atípicos que distorsionan a la media. Decidimos usar la mediana."
   ]
  },
  {
   "cell_type": "code",
   "execution_count": 45,
   "metadata": {},
   "outputs": [],
   "source": [
    "med_vars = file.groupby('grupo_edad')['days_employed'].transform('median')\n",
    "file['days_employed'].fillna(med_vars, inplace=True)"
   ]
  },
  {
   "cell_type": "code",
   "execution_count": 46,
   "metadata": {},
   "outputs": [
    {
     "name": "stdout",
     "output_type": "stream",
     "text": [
      "<class 'pandas.core.frame.DataFrame'>\n",
      "Int64Index: 21424 entries, 0 to 21524\n",
      "Data columns (total 14 columns):\n",
      " #   Column             Non-Null Count  Dtype  \n",
      "---  ------             --------------  -----  \n",
      " 0   children           21424 non-null  int64  \n",
      " 1   days_employed      21424 non-null  float64\n",
      " 2   dob_years          21424 non-null  int64  \n",
      " 3   education          21424 non-null  object \n",
      " 4   education_id       21424 non-null  int64  \n",
      " 5   family_status      21424 non-null  object \n",
      " 6   family_status_id   21424 non-null  int64  \n",
      " 7   gender             21424 non-null  object \n",
      " 8   income_type        21424 non-null  object \n",
      " 9   debt               21424 non-null  int64  \n",
      " 10  total_income       21424 non-null  float64\n",
      " 11  purpose            21424 non-null  object \n",
      " 12  grupo_edad         21424 non-null  object \n",
      " 13  days_employed_cat  21424 non-null  object \n",
      "dtypes: float64(2), int64(5), object(7)\n",
      "memory usage: 2.5+ MB\n"
     ]
    }
   ],
   "source": [
    "# Comprueba si la función funcionó\n",
    "file.info()"
   ]
  },
  {
   "cell_type": "markdown",
   "metadata": {},
   "source": [
    "## Clasificación de datos <a id='data_class'></a>"
   ]
  },
  {
   "cell_type": "code",
   "execution_count": 47,
   "metadata": {
    "scrolled": true
   },
   "outputs": [
    {
     "name": "stdout",
     "output_type": "stream",
     "text": [
      "married              12331\n",
      "civil partnership     4156\n",
      "unmarried             2797\n",
      "divorced              1185\n",
      "widow / widower        955\n",
      "Name: family_status, dtype: int64\n"
     ]
    }
   ],
   "source": [
    "# Muestra los valores de los datos seleccionados para la clasificación\n",
    "print(file[\"family_status\"].value_counts())"
   ]
  },
  {
   "cell_type": "code",
   "execution_count": 48,
   "metadata": {},
   "outputs": [
    {
     "name": "stdout",
     "output_type": "stream",
     "text": [
      "['married' 'civil partnership' 'widow / widower' 'divorced' 'unmarried']\n"
     ]
    }
   ],
   "source": [
    "# Comprobar los valores únicos\n",
    "print(file[\"family_status\"].unique())"
   ]
  },
  {
   "cell_type": "code",
   "execution_count": 49,
   "metadata": {},
   "outputs": [
    {
     "name": "stdout",
     "output_type": "stream",
     "text": [
      "sin hijos, con pareja    11051\n",
      "con hijos, con pareja     6391\n",
      "sin hijos, soltero        3029\n",
      "con hijos, soltero         953\n",
      "Name: categ_fam, dtype: int64\n"
     ]
    }
   ],
   "source": [
    "# Escribamos una función para clasificar los datos en función de temas comunes\n",
    "def caracteristicas(file):\n",
    "    children = file[\"children\"]\n",
    "    status = file[\"family_status\"]\n",
    "    \n",
    "    if children == 0:\n",
    "        if status == \"unmarried\" or status == \"divorced\" or  status == \"widow/widower\":\n",
    "            return \"sin hijos, soltero\"\n",
    "        else:\n",
    "            return \"sin hijos, con pareja\"\n",
    "    else:\n",
    "        if status == \"unmarried\" or status == \"divorced\" or  status == \"widow/widower\":\n",
    "            return \"con hijos, soltero\"\n",
    "        else:\n",
    "            return \"con hijos, con pareja\"\n",
    "        \n",
    "file[\"categ_fam\"] = file.apply(caracteristicas,axis=1)\n",
    "print(file[\"categ_fam\"].value_counts())"
   ]
  },
  {
   "cell_type": "code",
   "execution_count": 50,
   "metadata": {},
   "outputs": [
    {
     "name": "stdout",
     "output_type": "stream",
     "text": [
      "3306.762      1\n",
      "3392.845      1\n",
      "3418.824      1\n",
      "3471.216      1\n",
      "3503.298      1\n",
      "             ..\n",
      "273809.483    1\n",
      "274402.943    1\n",
      "276204.162    1\n",
      "352136.354    1\n",
      "362496.645    1\n",
      "Name: total_income, Length: 19260, dtype: int64\n"
     ]
    }
   ],
   "source": [
    "# Revisar todos los datos numéricos en la columna seleccionada para la clasificación\n",
    "print(file[\"total_income\"].value_counts().sort_index())"
   ]
  },
  {
   "cell_type": "code",
   "execution_count": 51,
   "metadata": {},
   "outputs": [
    {
     "name": "stdout",
     "output_type": "stream",
     "text": [
      "24711.8435    1095\n",
      "21310.9445     712\n",
      "22957.1850     357\n",
      "31791.3840       2\n",
      "17312.7170       2\n",
      "              ... \n",
      "29224.4030       1\n",
      "40299.3820       1\n",
      "10000.3920       1\n",
      "99284.6960       1\n",
      "41428.9160       1\n",
      "Name: total_income, Length: 19260, dtype: int64\n",
      "\n"
     ]
    },
    {
     "data": {
      "text/plain": [
       "<function matplotlib.pyplot.show(close=None, block=None)>"
      ]
     },
     "execution_count": 51,
     "metadata": {},
     "output_type": "execute_result"
    },
    {
     "data": {
      "image/png": "[encoded data removed]",
      "text/plain": [
       "<Figure size 432x288 with 1 Axes>"
      ]
     },
     "metadata": {
      "needs_background": "light"
     },
     "output_type": "display_data"
    }
   ],
   "source": [
    "# Obtener estadísticas resumidas para la columna\n",
    "\n",
    "import matplotlib.pyplot as plt \n",
    "\n",
    "\n",
    "\n",
    "print(file[\"total_income\"].value_counts())\n",
    "graph = file[\"total_income\"].plot(kind=\"hist\",bins=200)\n",
    "print()\n",
    "plt.xlim(0, 80000)\n",
    "plt.show"
   ]
  },
  {
   "cell_type": "code",
   "execution_count": 52,
   "metadata": {},
   "outputs": [],
   "source": [
    "# Crear una función para clasificar en diferentes grupos numéricos basándose en rangos\n",
    "def rangos_ec(status):\n",
    "    if status <= 5000:\n",
    "        return 'Ingresos muy bajos'\n",
    "    if status <= 10000:\n",
    "        return 'Ingresos bajos'\n",
    "    if status <= 25000:\n",
    "        return 'Ingresos medios'\n",
    "    if status <= 50000:\n",
    "        return 'Ingresos altos'\n",
    "    return 'Ingresos muy altos'"
   ]
  },
  {
   "cell_type": "code",
   "execution_count": 53,
   "metadata": {},
   "outputs": [],
   "source": [
    "# Crear una columna con categorías\n",
    "file[\"cat_ingresos\"] = file[\"total_income\"].apply(rangos_ec)"
   ]
  },
  {
   "cell_type": "code",
   "execution_count": 54,
   "metadata": {
    "scrolled": true
   },
   "outputs": [
    {
     "data": {
      "text/plain": [
       "Ingresos medios       11943\n",
       "Ingresos altos         7242\n",
       "Ingresos muy altos     1318\n",
       "Ingresos bajos          895\n",
       "Ingresos muy bajos       26\n",
       "Name: cat_ingresos, dtype: int64"
      ]
     },
     "execution_count": 54,
     "metadata": {},
     "output_type": "execute_result"
    }
   ],
   "source": [
    "# Contar los valores de cada categoría para ver la distribución\n",
    "file[\"cat_ingresos\"].value_counts()"
   ]
  },
  {
   "cell_type": "markdown",
   "metadata": {},
   "source": [
    "Categorización según los diferentes propósitos del préstamo"
   ]
  },
  {
   "cell_type": "code",
   "execution_count": 55,
   "metadata": {},
   "outputs": [],
   "source": [
    "def purpose_sum(status):\n",
    "    if \"build\" in status:\n",
    "        return \"build\"\n",
    "    if \"real state\" in status or \"house\" in status:\n",
    "        return 'real state'\n",
    "    if \"car\" in status:\n",
    "        return 'car'\n",
    "    if \"education\" in status:\n",
    "        return \"education\"\n",
    "    if \"wedding\" in status:\n",
    "        return \"wedding\"\n",
    "    return \"others\"\n",
    "file[\"purpose_sum\"] = file[\"purpose\"].apply(purpose_sum)"
   ]
  },
  {
   "cell_type": "markdown",
   "metadata": {},
   "source": [
    "## Comprobación de las hipótesis <a id='data_comp'></a>\n"
   ]
  },
  {
   "cell_type": "markdown",
   "metadata": {},
   "source": [
    "**¿Existe una correlación entre tener hijos y pagar a tiempo?**"
   ]
  },
  {
   "cell_type": "code",
   "execution_count": 56,
   "metadata": {},
   "outputs": [
    {
     "data": {
      "text/html": [
       "<div>\n",
       "<style scoped>\n",
       "    .dataframe tbody tr th:only-of-type {\n",
       "        vertical-align: middle;\n",
       "    }\n",
       "\n",
       "    .dataframe tbody tr th {\n",
       "        vertical-align: top;\n",
       "    }\n",
       "\n",
       "    .dataframe thead th {\n",
       "        text-align: right;\n",
       "    }\n",
       "</style>\n",
       "<table border=\"1\" class=\"dataframe\">\n",
       "  <thead>\n",
       "    <tr style=\"text-align: right;\">\n",
       "      <th></th>\n",
       "      <th>debt</th>\n",
       "    </tr>\n",
       "    <tr>\n",
       "      <th>categ_fam</th>\n",
       "      <th></th>\n",
       "    </tr>\n",
       "  </thead>\n",
       "  <tbody>\n",
       "    <tr>\n",
       "      <th>con hijos, con pareja</th>\n",
       "      <td>0.091066</td>\n",
       "    </tr>\n",
       "    <tr>\n",
       "      <th>con hijos, soltero</th>\n",
       "      <td>0.097587</td>\n",
       "    </tr>\n",
       "    <tr>\n",
       "      <th>sin hijos, con pareja</th>\n",
       "      <td>0.071758</td>\n",
       "    </tr>\n",
       "    <tr>\n",
       "      <th>sin hijos, soltero</th>\n",
       "      <td>0.087488</td>\n",
       "    </tr>\n",
       "  </tbody>\n",
       "</table>\n",
       "</div>"
      ],
      "text/plain": [
       "                           debt\n",
       "categ_fam                      \n",
       "con hijos, con pareja  0.091066\n",
       "con hijos, soltero     0.097587\n",
       "sin hijos, con pareja  0.071758\n",
       "sin hijos, soltero     0.087488"
      ]
     },
     "execution_count": 56,
     "metadata": {},
     "output_type": "execute_result"
    }
   ],
   "source": [
    "# Comprueba los datos sobre los hijos y los pagos puntuales\n",
    "file.pivot_table(index=\"categ_fam\",values=\"debt\",aggfunc=\"mean\")"
   ]
  },
  {
   "cell_type": "markdown",
   "metadata": {},
   "source": [
    "**Conclusión**\n",
    "Lo que indica las medias es que mientras más hijos se tiene más probabilidad de tener deuda hubo en la data histórica."
   ]
  },
  {
   "cell_type": "markdown",
   "metadata": {},
   "source": [
    "**¿Existe una correlación entre la situación familiar y el pago a tiempo?**"
   ]
  },
  {
   "cell_type": "code",
   "execution_count": 57,
   "metadata": {},
   "outputs": [
    {
     "data": {
      "text/html": [
       "<div>\n",
       "<style scoped>\n",
       "    .dataframe tbody tr th:only-of-type {\n",
       "        vertical-align: middle;\n",
       "    }\n",
       "\n",
       "    .dataframe tbody tr th {\n",
       "        vertical-align: top;\n",
       "    }\n",
       "\n",
       "    .dataframe thead th {\n",
       "        text-align: right;\n",
       "    }\n",
       "</style>\n",
       "<table border=\"1\" class=\"dataframe\">\n",
       "  <thead>\n",
       "    <tr style=\"text-align: right;\">\n",
       "      <th></th>\n",
       "      <th>debt</th>\n",
       "    </tr>\n",
       "    <tr>\n",
       "      <th>categ_fam</th>\n",
       "      <th></th>\n",
       "    </tr>\n",
       "  </thead>\n",
       "  <tbody>\n",
       "    <tr>\n",
       "      <th>con hijos, con pareja</th>\n",
       "      <td>0.091066</td>\n",
       "    </tr>\n",
       "    <tr>\n",
       "      <th>con hijos, soltero</th>\n",
       "      <td>0.097587</td>\n",
       "    </tr>\n",
       "    <tr>\n",
       "      <th>sin hijos, con pareja</th>\n",
       "      <td>0.071758</td>\n",
       "    </tr>\n",
       "    <tr>\n",
       "      <th>sin hijos, soltero</th>\n",
       "      <td>0.087488</td>\n",
       "    </tr>\n",
       "  </tbody>\n",
       "</table>\n",
       "</div>"
      ],
      "text/plain": [
       "                           debt\n",
       "categ_fam                      \n",
       "con hijos, con pareja  0.091066\n",
       "con hijos, soltero     0.097587\n",
       "sin hijos, con pareja  0.071758\n",
       "sin hijos, soltero     0.087488"
      ]
     },
     "execution_count": 57,
     "metadata": {},
     "output_type": "execute_result"
    }
   ],
   "source": [
    "# Comprueba los datos del estado familiar y los pagos a tiempo\n",
    "file.pivot_table(index=\"categ_fam\",values=\"debt\",aggfunc=\"mean\")"
   ]
  },
  {
   "cell_type": "markdown",
   "metadata": {},
   "source": [
    "**Conclusión**\n",
    "Efectivamente, las personas con hijos tienen son más propensos a tener retrasos en deudas a comparación a aquellos sin hijos, aunque la diferencia no es tan grande pues apenas es del 2% entre los grupos."
   ]
  },
  {
   "cell_type": "markdown",
   "metadata": {},
   "source": [
    "**¿Existe una correlación entre el nivel de ingresos y el pago a tiempo?**"
   ]
  },
  {
   "cell_type": "code",
   "execution_count": 58,
   "metadata": {},
   "outputs": [
    {
     "data": {
      "text/html": [
       "<div>\n",
       "<style scoped>\n",
       "    .dataframe tbody tr th:only-of-type {\n",
       "        vertical-align: middle;\n",
       "    }\n",
       "\n",
       "    .dataframe tbody tr th {\n",
       "        vertical-align: top;\n",
       "    }\n",
       "\n",
       "    .dataframe thead th {\n",
       "        text-align: right;\n",
       "    }\n",
       "</style>\n",
       "<table border=\"1\" class=\"dataframe\">\n",
       "  <thead>\n",
       "    <tr style=\"text-align: right;\">\n",
       "      <th></th>\n",
       "      <th>debt</th>\n",
       "    </tr>\n",
       "    <tr>\n",
       "      <th>cat_ingresos</th>\n",
       "      <th></th>\n",
       "    </tr>\n",
       "  </thead>\n",
       "  <tbody>\n",
       "    <tr>\n",
       "      <th>Ingresos altos</th>\n",
       "      <td>0.080088</td>\n",
       "    </tr>\n",
       "    <tr>\n",
       "      <th>Ingresos bajos</th>\n",
       "      <td>0.062570</td>\n",
       "    </tr>\n",
       "    <tr>\n",
       "      <th>Ingresos medios</th>\n",
       "      <td>0.083982</td>\n",
       "    </tr>\n",
       "    <tr>\n",
       "      <th>Ingresos muy altos</th>\n",
       "      <td>0.069803</td>\n",
       "    </tr>\n",
       "    <tr>\n",
       "      <th>Ingresos muy bajos</th>\n",
       "      <td>0.076923</td>\n",
       "    </tr>\n",
       "  </tbody>\n",
       "</table>\n",
       "</div>"
      ],
      "text/plain": [
       "                        debt\n",
       "cat_ingresos                \n",
       "Ingresos altos      0.080088\n",
       "Ingresos bajos      0.062570\n",
       "Ingresos medios     0.083982\n",
       "Ingresos muy altos  0.069803\n",
       "Ingresos muy bajos  0.076923"
      ]
     },
     "execution_count": 58,
     "metadata": {},
     "output_type": "execute_result"
    }
   ],
   "source": [
    "# Comprueba los datos del nivel de ingresos y los pagos a tiempo\n",
    "file.pivot_table(index=\"cat_ingresos\",values=\"debt\",aggfunc=\"mean\")\n"
   ]
  },
  {
   "cell_type": "markdown",
   "metadata": {},
   "source": [
    "**Conclusión**\n",
    "\n",
    "Según la clasificación y la data, los ingresos no determinan cierta correlación. De hecho los valores más altos serían de aquellas personas con ingresos medios y altos. Debería analizarse más a fondo si esta conclusión es acertada o se debe a diferentes causas en cada subgrupo. En general, no se puede indicar que el nivel de ingresos determina un nivel de deuda en nuestra información."
   ]
  },
  {
   "cell_type": "markdown",
   "metadata": {},
   "source": [
    "**¿Cómo afecta el propósito del crédito a la tasa de incumplimiento?**"
   ]
  },
  {
   "cell_type": "code",
   "execution_count": 59,
   "metadata": {},
   "outputs": [
    {
     "name": "stdout",
     "output_type": "stream",
     "text": [
      "                                              debt\n",
      "purpose                                           \n",
      "building a property                       0.087097\n",
      "building a real estate                    0.077047\n",
      "buy commercial real estate                0.071104\n",
      "buy real estate                           0.069243\n",
      "buy residential real estate               0.067881\n",
      "buying a second-hand car                  0.075157\n",
      "buying my own car                         0.091633\n",
      "buying property for renting out           0.079877\n",
      "car                                       0.085540\n",
      "car purchase                              0.091304\n",
      "cars                                      0.092437\n",
      "construction of own property              0.066351\n",
      "education                                 0.072072\n",
      "getting an education                      0.083710\n",
      "getting higher education                  0.108491\n",
      "going to university                       0.087221\n",
      "having a wedding                          0.082794\n",
      "housing                                   0.071763\n",
      "housing renovation                        0.057377\n",
      "housing transactions                      0.072643\n",
      "profile education                         0.101149\n",
      "property                                  0.065079\n",
      "purchase of a car                         0.110132\n",
      "purchase of my own house                  0.054927\n",
      "purchase of the house                     0.073323\n",
      "purchase of the house for my family       0.070312\n",
      "real estate transactions                  0.081724\n",
      "second-hand car purchase                  0.104723\n",
      "supplementary education                   0.082609\n",
      "to become educated                        0.094891\n",
      "to buy a car                              0.092077\n",
      "to get a supplementary education          0.114607\n",
      "to have a wedding                         0.074122\n",
      "to own a car                              0.096436\n",
      "transactions with commercial real estate  0.080123\n",
      "transactions with my real estate          0.079365\n",
      "university education                      0.088889\n",
      "wedding ceremony                          0.079545\n",
      "\n"
     ]
    },
    {
     "data": {
      "text/html": [
       "<div>\n",
       "<style scoped>\n",
       "    .dataframe tbody tr th:only-of-type {\n",
       "        vertical-align: middle;\n",
       "    }\n",
       "\n",
       "    .dataframe tbody tr th {\n",
       "        vertical-align: top;\n",
       "    }\n",
       "\n",
       "    .dataframe thead th {\n",
       "        text-align: right;\n",
       "    }\n",
       "</style>\n",
       "<table border=\"1\" class=\"dataframe\">\n",
       "  <thead>\n",
       "    <tr style=\"text-align: right;\">\n",
       "      <th></th>\n",
       "      <th>debt</th>\n",
       "    </tr>\n",
       "    <tr>\n",
       "      <th>purpose_sum</th>\n",
       "      <th></th>\n",
       "    </tr>\n",
       "  </thead>\n",
       "  <tbody>\n",
       "    <tr>\n",
       "      <th>build</th>\n",
       "      <td>0.082060</td>\n",
       "    </tr>\n",
       "    <tr>\n",
       "      <th>car</th>\n",
       "      <td>0.093175</td>\n",
       "    </tr>\n",
       "    <tr>\n",
       "      <th>education</th>\n",
       "      <td>0.092903</td>\n",
       "    </tr>\n",
       "    <tr>\n",
       "      <th>others</th>\n",
       "      <td>0.074000</td>\n",
       "    </tr>\n",
       "    <tr>\n",
       "      <th>real state</th>\n",
       "      <td>0.066316</td>\n",
       "    </tr>\n",
       "    <tr>\n",
       "      <th>wedding</th>\n",
       "      <td>0.078835</td>\n",
       "    </tr>\n",
       "  </tbody>\n",
       "</table>\n",
       "</div>"
      ],
      "text/plain": [
       "                 debt\n",
       "purpose_sum          \n",
       "build        0.082060\n",
       "car          0.093175\n",
       "education    0.092903\n",
       "others       0.074000\n",
       "real state   0.066316\n",
       "wedding      0.078835"
      ]
     },
     "execution_count": 59,
     "metadata": {},
     "output_type": "execute_result"
    }
   ],
   "source": [
    "# Consulta los porcentajes de tasa de incumplimiento para cada propósito del crédito y analízalos\n",
    "print(file.pivot_table(index=\"purpose\",values=\"debt\",aggfunc=\"mean\"))\n",
    "print()\n",
    "file.pivot_table(index=\"purpose_sum\",values=\"debt\",aggfunc=\"mean\")"
   ]
  },
  {
   "cell_type": "markdown",
   "metadata": {},
   "source": [
    "**Conclusión**\n",
    "Las principal clasificación indica que las personas que se endeudan para la compra de un auto son más propensos a incurrir en deuda, seguidos por aquellas personas que se endeudan por motivos de educación.\n",
    "\n"
   ]
  },
  {
   "cell_type": "markdown",
   "metadata": {},
   "source": [
    "# Conclusión general <a id=\"conclu_general\"><a/>\n",
    "Con respecto a las clasificaciones hemos podido encontrar los siguiente:\n",
    "1. Lo que indica las medias es que mientras más hijos se tiene más probabilidad de tener deuda hubo en la data histórica.\n",
    "2. Según la clasificación y la data, los ingresos no determinan cierta correlación. De hecho los valores más altos serían de aquellas personas con ingresos medios y altos.\n",
    "3. Las principal clasificación indica que las personas que se endeudan para la compra de un auto son más propensos a incurrir en deuda, seguidos por aquellas personas que se endeudan por motivos de educación.\n",
    "\n",
    "Finalmente, la base de datos está lista para el análisis y darle una puntuación según las características dadas.\n",
    "\n"
   ]
  }
 ],
 "metadata": {
  "ExecuteTimeLog": [
   {
    "duration": 2741,
    "start_time": "2021-10-21T01:08:49.480Z"
   },
   {
    "duration": 52,
    "start_time": "2021-10-21T01:08:53.315Z"
   },
   {
    "duration": 49,
    "start_time": "2021-10-21T01:08:57.432Z"
   },
   {
    "duration": 70,
    "start_time": "2021-10-21T01:09:07.706Z"
   }
  ],
  "kernelspec": {
   "display_name": "Python 3 (ipykernel)",
   "language": "python",
   "name": "python3"
  },
  "language_info": {
   "codemirror_mode": {
    "name": "ipython",
    "version": 3
   },
   "file_extension": ".py",
   "mimetype": "text/x-python",
   "name": "python",
   "nbconvert_exporter": "python",
   "pygments_lexer": "ipython3",
   "version": "3.9.5"
  },
  "toc": {
   "base_numbering": 1,
   "nav_menu": {},
   "number_sections": true,
   "sideBar": true,
   "skip_h1_title": true,
   "title_cell": "Table of Contents",
   "title_sidebar": "Contents",
   "toc_cell": false,
   "toc_position": {},
   "toc_section_display": true,
   "toc_window_display": false
  }
 },
 "nbformat": 4,
 "nbformat_minor": 2
}
